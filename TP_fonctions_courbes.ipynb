{
 "cells": [
  {
   "cell_type": "markdown",
   "metadata": {},
   "source": [
    "#  Comment travailler avec un notebook Jupiter (ce document) ?\n",
    "Un notebook jupyter est composé de cellules : \n",
    "- certaines sont des cellules de texte (comme celle-ci, par exemple)\n",
    "- d'autres sont des cellules de code (de programmation), où on écrit en langage **python** : on les reconnaît car il est écrit **`Entrée [ ] : `**  devant.\n",
    "\n",
    "\n",
    "On peut écrire dans chacune d'elle. Pour valider une cellule (**indispensable pour exécuter un programme python**), on peut soit utiliser le raccourci clavier **`Ctrl`+`Entrée`**, soit cliquer sur le bouton **`►Exécuter`**.\n",
    "\n",
    "On peut exécuter plusieurs fois la cellule, si on a corrigé ou modifié un programme par exemple.\n",
    "\n",
    "\n",
    "**Remarque :**\n",
    "\n",
    "Dans un programme python, on peut utiliser le symbole # devant une ligne : cette ligne devient alors un commentaire, elle n'est pas exécutée par Python. \n",
    "\n",
    "\n",
    "Une fois le travail terminé, vous allez le télécharger pour ensuite l'envoyer au professeur.\n",
    "Pour cela, allez dans le menu **`Fichier`** de Jupyter, choisir **`Télécharger au format`**, puis **`HTML (.html)`** par exemple\n",
    "\n",
    "Le document ainsi téléchargé sera lisible par un navigateur internet, mais ne pourra pas être modifié.\n",
    "\n",
    "\n",
    "**remarque importante :** si vous restez très longtemps sur le fichier en ligne, le \"noyau\" de Python risque d'être désactivé. On peut soit le relancer à l'aide de la flèche arrondie (à droite du bouton \"Exécuter\"), soit en cliquant sur le bouton \"Non fiable\" afin de rendre le fichier fiable."
   ]
  },
  {
   "cell_type": "markdown",
   "metadata": {},
   "source": [
    "# Algorithmes et tracés de courbes"
   ]
  },
  {
   "cell_type": "markdown",
   "metadata": {},
   "source": [
    "L’objectif de ce TP est de tracer la courbe représentative d’une fonction.\n",
    "\n",
    "On considère la fonction définie sur $[-5;5]$ par $f(x)=x^2-3x+1$"
   ]
  },
  {
   "cell_type": "markdown",
   "metadata": {},
   "source": [
    "###  1) Notion de fonction\n",
    "En **`python`**, on utilise souvent la notion de fonction qui permet de concevoir ses propres outils de calcul afin de ne pas répéter plusieurs fois les mêmes séquences de calcul.\n",
    "\n",
    "Si on désire calculer les images de plusieurs valeurs de $x$, on n'est pas obligé d'eecrire à chaque fois l'expression de la fonction.\n",
    "\n",
    "On va donc construire la fonction appelée **f**\n",
    "\n",
    "Une fonction est toujours composée des éléments suivant : \n",
    "- de l'instruction **`def`**  qui permet d'indiquer que l'on définit une fonction.\n",
    "- du nom de la fonction, ici **f**\n",
    "- des variables utilisées entre parenthèses, ici **x**. S'il n'y a pas de variable, on écrit quand même les parenthèses vides **()**\n",
    "- de deux points après les parenthèses **`:`** indiquant que l'on va commencer à écrire la définition\n",
    "- du corps de la fonction qui est **indenté** : il est décalé horizontalement d'une tabulation.\n",
    "- de l'instruction **`return`** qui permet de \"renvoyer\" le résultat (parfois non obligatoire).\n",
    "\n",
    "Voici ce que cela donne dans notre cas : "
   ]
  },
  {
   "cell_type": "code",
   "execution_count": 2,
   "metadata": {},
   "outputs": [],
   "source": [
    "def f(x):\n",
    "    return(x**2-3*x+1)"
   ]
  },
  {
   "cell_type": "markdown",
   "metadata": {},
   "source": [
    "Pour exécuter une fonction il suffit de taper son nom avec les valeurs des paramètres comme ci-dessous.\n",
    "\n",
    "Exécuter les cellules ci-dessous et vérifier les résultats en calculant manuellement."
   ]
  },
  {
   "cell_type": "code",
   "execution_count": null,
   "metadata": {},
   "outputs": [],
   "source": [
    "f(1)"
   ]
  },
  {
   "cell_type": "code",
   "execution_count": null,
   "metadata": {},
   "outputs": [],
   "source": [
    "f(4)"
   ]
  },
  {
   "cell_type": "markdown",
   "metadata": {},
   "source": [
    "### 2) Première tentative de tracé de courbe :\n",
    "\n",
    "> a) Dans la cellule ci-dessous, saisir le script `Python` ci-contre ![TP_courbe_fonction_Q1](TP_courbe_fonction_Q1.png)\n",
    "> puis executer la cellule en cliquant sur le bouton Exécuter\n",
    "> remarque : la fonction f est celle définie précédemment.\n",
    "  "
   ]
  },
  {
   "cell_type": "code",
   "execution_count": null,
   "metadata": {},
   "outputs": [],
   "source": []
  },
  {
   "cell_type": "markdown",
   "metadata": {},
   "source": [
    "> b) L'objectif a-t-il été atteint ? pourquoi ?"
   ]
  },
  {
   "cell_type": "raw",
   "metadata": {},
   "source": []
  },
  {
   "cell_type": "markdown",
   "metadata": {},
   "source": [
    "> c) Que faudrait-il faire pour le modifier ?"
   ]
  },
  {
   "cell_type": "raw",
   "metadata": {},
   "source": []
  },
  {
   "cell_type": "markdown",
   "metadata": {},
   "source": [
    "### 3) Utilisation d’une boucle : l’instruction « while »\n",
    "\n",
    "Information :\n",
    "\n",
    ">```python\n",
    "while (test):\n",
    "    instruction indentée, respecter la tabulation au début de la ligne\n",
    "    ...\n",
    ">```\n",
    "\n",
    "est une structure d'algorithme qui répète le bloc d'instruction tant que le test est satisfait et s'arrête dès que le test n'est plus satisfait.\n",
    "\n",
    "\n",
    "Dans la cellule ci-dessous, saisir et exécuter le script `Python` suivant :\n",
    "![TP_courbe_fonction_Q2.png](TP_courbe_fonction_Q2.png)\n",
    "\n",
    "**Attention :**  bien respecter l'indentation\n"
   ]
  },
  {
   "cell_type": "code",
   "execution_count": null,
   "metadata": {},
   "outputs": [],
   "source": []
  },
  {
   "cell_type": "markdown",
   "metadata": {},
   "source": [
    "a. Que se passe-il ?"
   ]
  },
  {
   "cell_type": "raw",
   "metadata": {},
   "source": []
  },
  {
   "cell_type": "markdown",
   "metadata": {},
   "source": [
    "b. Dans le script précedent, remplacer le 4 par 10 et exécuter à nouveau.\n",
    "Que se passe-t-il ?"
   ]
  },
  {
   "cell_type": "raw",
   "metadata": {},
   "source": []
  },
  {
   "cell_type": "markdown",
   "metadata": {},
   "source": [
    "c. Toujour s dans le même script, remplacer le `<=` par `<` et exécuter à nouveau.\n",
    "Que se passe-t-il ?"
   ]
  },
  {
   "cell_type": "raw",
   "metadata": {},
   "source": []
  },
  {
   "cell_type": "markdown",
   "metadata": {},
   "source": [
    "<img style=\"float: right;\" src=\"TP_courbe_fonction_Q3.png\">\n",
    "\n",
    "### 4) Application à notre tracé :\n",
    "\n",
    "On considère toujours la fonction définie sur $[-5;5]$ par $f(x)=x^2-3x+1$\n",
    "\n",
    "a) Compléter et exécuter le script ci-dessous pour obtenir les points de\n",
    "la courbe $C_f$ dont les abscisses sont les nombres entiers de l’intervalle $[-5;5]$ :"
   ]
  },
  {
   "cell_type": "code",
   "execution_count": null,
   "metadata": {},
   "outputs": [],
   "source": []
  },
  {
   "cell_type": "markdown",
   "metadata": {},
   "source": [
    "Écrire dans la cellule suivante le contenu des lignes 1, 3 et 4 une fois complétées."
   ]
  },
  {
   "cell_type": "raw",
   "metadata": {},
   "source": [
    "ligne 1 :  ....\n",
    "ligne 3 :  ....\n",
    "ligne 4 :  ...."
   ]
  },
  {
   "cell_type": "markdown",
   "metadata": {},
   "source": [
    "b) Modifier le script précédent pour obtenir les points de la courbe $C_f$ dont les abscisses sont espacées de 1 dixième dans l’intervalle $[-5;5]$. \n",
    "\n",
    "Écrire ci-dessous les lignes modifiées."
   ]
  },
  {
   "cell_type": "raw",
   "metadata": {},
   "source": []
  },
  {
   "cell_type": "markdown",
   "metadata": {},
   "source": [
    "c) Modifier le script précédent pour obtenir les points de la courbe $C_f$ dont les abscisses sont espacées de 1 centième dans l’intervalle $[-10;10]$. \n",
    "\n",
    "Écrire ci-dessous les lignes modifiées."
   ]
  },
  {
   "cell_type": "raw",
   "metadata": {},
   "source": []
  }
 ],
 "metadata": {
  "kernelspec": {
   "display_name": "Python 3",
   "language": "python",
   "name": "python3"
  },
  "language_info": {
   "codemirror_mode": {
    "name": "ipython",
    "version": 3
   },
   "file_extension": ".py",
   "mimetype": "text/x-python",
   "name": "python",
   "nbconvert_exporter": "python",
   "pygments_lexer": "ipython3",
   "version": "3.7.6"
  }
 },
 "nbformat": 4,
 "nbformat_minor": 4
}
